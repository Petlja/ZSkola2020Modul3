{
 "cells": [
  {
   "cell_type": "markdown",
   "metadata": {},
   "source": [
    "# 3. Хистограми и боје\n",
    "\n",
    "\n",
    "У овој лекцији ћеш научити:\n",
    "1. још један начин да премешташ ћелије унутар Џупитер радне свеске;\n",
    "2. како да приказујеш податке хистограмима; и\n",
    "3. како да приказујеш графиконе у разним бојама."
   ]
  },
  {
   "cell_type": "markdown",
   "metadata": {},
   "source": [
    "## 3.1. Још мало о Џупитер радној свесци"
   ]
  },
  {
   "cell_type": "markdown",
   "metadata": {},
   "source": [
    "Већ смо неколико пута рекли да се Џупитер радна свеска састоји из низа ћелија, а свака ћелија може да садржи текст, математички израз или низ Пајтон наредби. Низ дугмића при врху стране ти омогућује да бараташ ћелијама Џупитер радне свеске на разне начине. До сада смо упознали\n",
    "- дугме **Run** које извршава ћелију,\n",
    "- дугме које личи на дискету помоћу кога можемо да снимимо радну свеску,\n",
    "- дугме са знаком **+** које додаје нову ћелију испод активне ћелије и\n",
    "- стрелице на горе и на доле које померају радну ћелију за једно место горе или доле.\n",
    "\n",
    "Следећа три дугмета:\n",
    "\n",
    "![Još tri dugmeta](slike/JupyterMenuCutCopyPaste.jpg)\n",
    "\n",
    "омогућују да се са ћелијама обављају стандардне операције које се на енглеском зову *cut* (исеци, дугме \"маказе\"), *copy* (ископирај, дугме \"два листа папира\") и *paste* (залепи, дугме \"лист папира који се додаје на радну подлогу\").\n",
    "\n",
    "Ако желиш **да преместиш неку ћелију:**\n",
    "1. кликни на ту ћелију,\n",
    "2. кликни на дугме *cut* (дугме \"маказе\"),\n",
    "3. кликни на неко друго место у Џупитер радној свесци, и\n",
    "4. кликни на дугме *paste* (дугме \"лист папира који се додаје на радну подлогу\").\n",
    "\n",
    "Ова операција се кратко зове *cut/paste*.\n",
    "\n",
    "Ако желиш **да ископираш неку ћелију:**\n",
    "1. кликни на ту ћелију,\n",
    "2. кликни на дугме *copy* (дугме \"два листа папира\")\n",
    "3. кликни на неко друго место у Џупитер радној свесци, и\n",
    "4. кликни на дугме *paste* (дугме \"лист папира који се додаје на радну подлогу\").\n",
    "\n",
    "Ова операција се кратко зове *copy/paste*."
   ]
  },
  {
   "cell_type": "markdown",
   "metadata": {},
   "source": [
    "## 3.2. Хистограми"
   ]
  },
  {
   "cell_type": "markdown",
   "metadata": {},
   "source": [
    "У ситуацијама када података нема много згодно их је приказати низом стубића. Такви дијаграми се зову *хистограми* или *стубичасти дијаграми* (на енглеском *bar charts*).\n",
    "\n",
    "Пошто ћемо опет цртати графиконе увешћемо прво библиотеку за цртање графикона и дати јој скраћено име:"
   ]
  },
  {
   "cell_type": "code",
   "execution_count": null,
   "metadata": {},
   "outputs": [],
   "source": [
    "import matplotlib.pyplot as plt"
   ]
  },
  {
   "cell_type": "markdown",
   "metadata": {},
   "source": [
    "Да се подсетимо: библиотека нам је на располагању у овој радној свесци, али је за потребе неке друге радне свеске морамо поново увести (из те, друге, радне свеске).\n",
    "\n",
    "Претпоставимо да је на полугодишту један ученик имао следеће оцене из наведених предмета:\n",
    "\n",
    "| Предмет | Оцена |\n",
    "|---------|-------|\n",
    "| Математика | 2 |\n",
    "| Српски | 4 |\n",
    "| Ликовно | 5 |\n",
    "| Историја | 3 |\n",
    "| Физичко | 5 |\n",
    "| Музичко | 4 |\n",
    "| Техничко | 5 |\n",
    "\n",
    "Податке можемо представити помоћу две листе, овако:"
   ]
  },
  {
   "cell_type": "code",
   "execution_count": null,
   "metadata": {},
   "outputs": [],
   "source": [
    "predmeti = [\"mat\", \"srp\", \"lik\", \"ist\", \"fiz\", \"muz\", \"tio\"]\n",
    "ocene    = [2,     4,     5,     3,     5,     4,     5    ]"
   ]
  },
  {
   "cell_type": "markdown",
   "metadata": {},
   "source": [
    "Графички их можемо представити низовима стубића користећи функцију `bar`. Ова врста дијаграма се на енглеском зове *bar chart* (дијаграм са стубићима), а ми их зовемо *хистограми*:"
   ]
  },
  {
   "cell_type": "code",
   "execution_count": null,
   "metadata": {},
   "outputs": [],
   "source": [
    "plt.bar(predmeti, ocene)\n",
    "plt.title(\"Ocene na polugodištu\")\n",
    "plt.show()\n",
    "plt.close()"
   ]
  },
  {
   "cell_type": "markdown",
   "metadata": {},
   "source": [
    "Уколико желиш да повећаш димензије графикона можеш користити функцију `figure` са параметром `figuresize` (енглеска реч *figure* значи \"илустрација, приказ\", док енглеска реч *size* значи \"величина\"):"
   ]
  },
  {
   "cell_type": "code",
   "execution_count": null,
   "metadata": {},
   "outputs": [],
   "source": [
    "plt.figure(figsize=(10,5))\n",
    "plt.bar(predmeti, ocene)\n",
    "plt.title(\"Ocene na polugodištu\")\n",
    "plt.show()\n",
    "plt.close()"
   ]
  },
  {
   "cell_type": "markdown",
   "metadata": {},
   "source": [
    "Библиотека за цртање додељује графикону боју како она сматра да треба. Ако нам се боја коју је библиотека одабрала не свиђа можемо опцијом `color` (енгл. \"боја\") променити боју."
   ]
  },
  {
   "cell_type": "code",
   "execution_count": null,
   "metadata": {},
   "outputs": [],
   "source": [
    "plt.figure(figsize=(10,5))\n",
    "plt.bar(predmeti, ocene, color=\"g\")\n",
    "plt.title(\"Ocene na polugodištu\")\n",
    "plt.show()\n",
    "plt.close()"
   ]
  },
  {
   "cell_type": "markdown",
   "metadata": {},
   "source": [
    "Дијаграм је сада исцртан зеленом бојом (\"g\" = *green* = зелено). Можемо користити следеће боје:\n",
    "\n",
    "| Слово | Боја (енг) | Боја (српски) |\n",
    "|-------|------------|---------------|\n",
    "|\"b\"|blue|плава|\n",
    "|\"g\"|green|зелена|\n",
    "|\"r\"|red|црвена|\n",
    "|\"c\"|cyan|светло плава|\n",
    "|\"m\"|magenta|роза|\n",
    "|\"y\"|yellow|жута|\n",
    "|\"k\"|black|црна|\n",
    "|\"w\"|white|бела|"
   ]
  },
  {
   "cell_type": "markdown",
   "metadata": {},
   "source": [
    "## 3.3. Приказивање две групе података на истом дијаграму"
   ]
  },
  {
   "cell_type": "markdown",
   "metadata": {},
   "source": [
    "Могуће је на истом графикону приказати две групе података. Ево примера.\n",
    "\n",
    "\"Нормална телесна температура\" је заправо интервал температура који се мења са узрастом особе. Када се температура мери испод пазуха, нормална телесна температура је описана следећом табелом:\n",
    "\n",
    "| Узраст | Температура ($^\\circ$C) |\n",
    "|--------|-----------------------------|\n",
    "| 0--2 године | 34,7--37,3 |\n",
    "| 3--10 година | 35,9--36,7 |\n",
    "| 11--65 година | 35,2--36,9 |\n",
    "| преко 65 година | 35,6--36,2 |\n",
    "\n",
    "У наредној ћелији смо податке из ове табеле представили низовима:"
   ]
  },
  {
   "cell_type": "code",
   "execution_count": null,
   "metadata": {},
   "outputs": [],
   "source": [
    "starosneGrupe    = [\"0-2\", \"3-10\", \"11-65\", \"65+\"]\n",
    "normalnaT_donja  = [34.7,  35.9,   35.2,    35.6]\n",
    "normalnaT_gornja = [37.3,  36.7,   36.9,    36.2]"
   ]
  },
  {
   "cell_type": "markdown",
   "metadata": {},
   "source": [
    "Приказаћемо ове податке на једном графикону тако што ћемо навести две `bar` наредбе."
   ]
  },
  {
   "cell_type": "code",
   "execution_count": null,
   "metadata": {},
   "outputs": [],
   "source": [
    "plt.bar(starosneGrupe, normalnaT_gornja)\n",
    "plt.bar(starosneGrupe, normalnaT_donja)\n",
    "plt.title(\"Normalna telesna temperatura po starosnim grupama\")\n",
    "plt.xlabel(\"Starosne grupe (godine)\")\n",
    "plt.ylabel(\"Temperatura (C)\")\n",
    "plt.show()\n",
    "plt.close()"
   ]
  },
  {
   "cell_type": "markdown",
   "metadata": {},
   "source": [
    "Функције `xlabel` и `ylabel` додају појашњења ознака на $x$-оси, односно на $y$-оси.\n",
    "\n",
    "Овај дијаграм је нечитак јер су разлике између доње и горње границе нормалне телесне температуре релативно мале у односу на податке које приказујемо. Да би се боље видело о којим интервалима се ради можемо приказати само онај део дијаграма који се односи на величине од, рецимо, 34 степена Целзијуса то 39 степени Целзијуса користећи наредбу `ylim` (*$y$-limits*, што значи, \"границе за $y$-осу\")."
   ]
  },
  {
   "cell_type": "code",
   "execution_count": null,
   "metadata": {},
   "outputs": [],
   "source": [
    "plt.bar(starosneGrupe, normalnaT_gornja)\n",
    "plt.bar(starosneGrupe, normalnaT_donja)\n",
    "plt.ylim(34,39)\n",
    "plt.title(\"Normalna telesna temperatura po starosnim grupama\")\n",
    "plt.xlabel(\"Starosne grupe (godine)\")\n",
    "plt.ylabel(\"Temperatura (C)\")\n",
    "plt.show()\n",
    "plt.close()"
   ]
  },
  {
   "cell_type": "markdown",
   "metadata": {},
   "source": [
    "Важно је напоменути да је редослед навођења `bar` наредби битан јер библиотека прво исцрта више стубиће, па преко њих ниже. Ако променимо редослед `bar` наредби добићемо дијаграм који не представља оно што желимо -- стубићи који представљају доње границе се не виде јер је преко њих нацртана друга група података:"
   ]
  },
  {
   "cell_type": "code",
   "execution_count": null,
   "metadata": {},
   "outputs": [],
   "source": [
    "plt.bar(starosneGrupe, normalnaT_donja)\n",
    "plt.bar(starosneGrupe, normalnaT_gornja)\n",
    "plt.ylim(34,39)\n",
    "plt.title(\"Normalna telesna temperatura po starosnim grupama\")\n",
    "plt.xlabel(\"Starosne grupe (godine)\")\n",
    "plt.ylabel(\"Temperatura (C)\")\n",
    "plt.show()\n",
    "plt.close()"
   ]
  },
  {
   "cell_type": "markdown",
   "metadata": {},
   "source": [
    "Дакле, мора овим редом:"
   ]
  },
  {
   "cell_type": "code",
   "execution_count": null,
   "metadata": {},
   "outputs": [],
   "source": [
    "plt.bar(starosneGrupe, normalnaT_gornja)\n",
    "plt.bar(starosneGrupe, normalnaT_donja)\n",
    "plt.ylim(34,39)\n",
    "plt.title(\"Normalna telesna temperatura po starosnim grupama\")\n",
    "plt.xlabel(\"Starosne grupe (godine)\")\n",
    "plt.ylabel(\"Temperatura (C)\")\n",
    "plt.show()\n",
    "plt.close()"
   ]
  },
  {
   "cell_type": "markdown",
   "metadata": {},
   "source": [
    "За некога ко је само бацио поглед на дијаграм и није пажљиво читао текст пре њега није сасвим јасно који подаци су представљени плавим, а који наранџастим стубићима. Зато се дијаграму може додати легенда којом се дају додатна објашњења.\n",
    "\n",
    "Прво ћемо у обе `bar` команде додати још по један параметар облика `label=\"објашњење\"` који укратко описује податке приказане на том делу дијаграма. Функција `legend` потом црта легенду на дијаграму."
   ]
  },
  {
   "cell_type": "code",
   "execution_count": null,
   "metadata": {},
   "outputs": [],
   "source": [
    "plt.bar(starosneGrupe, normalnaT_gornja, label=\"gornja granica\")\n",
    "plt.bar(starosneGrupe, normalnaT_donja, label=\"donja granica\")\n",
    "plt.ylim(34,39)\n",
    "plt.title(\"Normalna telesna temperatura po starosnim grupama\")\n",
    "plt.xlabel(\"Starosne grupe (godine)\")\n",
    "plt.ylabel(\"Temperatura (C)\")\n",
    "plt.legend()\n",
    "plt.show()\n",
    "plt.close()"
   ]
  },
  {
   "cell_type": "markdown",
   "metadata": {},
   "source": [
    "## 3.4. Задаци"
   ]
  },
  {
   "cell_type": "markdown",
   "metadata": {},
   "source": [
    "**Задатак 1.** Погледај следећи код па одговори на питања:"
   ]
  },
  {
   "cell_type": "code",
   "execution_count": null,
   "metadata": {},
   "outputs": [],
   "source": [
    "import matplotlib.pyplot as plt\n",
    "plt.bar(starosneGrupe, normalnaT_gornja, label=\"gornja granica\")\n",
    "plt.bar(starosneGrupe, normalnaT_donja, label=\"donja granica\")\n",
    "plt.ylim(34,39)\n",
    "plt.title(\"Normalna telesna temperatura po starosnim grupama\")\n",
    "plt.xlabel(\"Starosne grupe (godine)\")\n",
    "plt.ylabel(\"Temperatura (C)\")\n",
    "plt.legend()\n",
    "plt.show()\n",
    "plt.close()"
   ]
  },
  {
   "cell_type": "markdown",
   "metadata": {},
   "source": [
    "1. Чему служи функција `bar`?\n",
    "2. Како би изгледао графикон када би две функције `bar` замениле места у овом програму?\n",
    "3. Чему служи функција `xlabel`?\n",
    "4. Чему служе функције `ylim` и `legend`?\n",
    "5. Како би променио величину овог графикона (димензије правоугаоника у који је спакован графикон)?\n",
    "6. Како би променио боју стубића који приказују горњу границу у жуту?"
   ]
  },
  {
   "cell_type": "markdown",
   "metadata": {},
   "source": [
    "Следеће задатке реши у Џупитеру."
   ]
  },
  {
   "cell_type": "markdown",
   "metadata": {},
   "source": [
    "**Задатак 2.** Првих десет места на АТП листи на дан 21.7.2019. изгледа овако:"
   ]
  },
  {
   "cell_type": "code",
   "execution_count": null,
   "metadata": {},
   "outputs": [],
   "source": [
    "teniseri = [\"Đoković\", \"Nadal\", \"Federer\", \"Thiem\", \"Zverev\", \"Tsipras\", \"Nishikori\", \"Khachanov\", \"Fognini\", \"Medvedev\"]\n",
    "poeni    = [12415,      7945,    7460,      4595,   4325,     4045,       4040,        2890,        2785,      2625]"
   ]
  },
  {
   "cell_type": "markdown",
   "metadata": {},
   "source": [
    "Прикажи хистограмом податке о АТП поенима првих десет тенисера на свету."
   ]
  },
  {
   "cell_type": "markdown",
   "metadata": {},
   "source": [
    "**Задатак 3.** Биолози су до данас описали око два милиона врста живих бића. Сва она су подељена у пет царстава. Њихов приближан број по царствима је дат следећом табелом:\n",
    "\n",
    "| Царство  | Број врста |\n",
    "|--|--|\n",
    "| Животиње | 1.400.000 |\n",
    "| Биљке    | 290.000 |\n",
    "| Гљиве    | 100.000 |\n",
    "| Протисти | 200.000 |\n",
    "| Монере   | 10.000 |\n",
    "\n",
    "Прикажи ове податке хистограмом.\n",
    "\n"
   ]
  },
  {
   "cell_type": "markdown",
   "metadata": {},
   "source": [
    "**Задатак 4.** У следећој табели су приказане највише и најниже температуре (у $^\\circ$C) икада измерене на континентима:\n",
    "\n",
    "|Континент:              | Европа | Азија | Африка | Северна Америка | Јужна Америка | Аустралија | Антарктик |\n",
    "|------------------------|--------|-------|--------|-----------------|---------------|------------|-----------|\n",
    "|Највиша забележена темп:| 48     | 54    | 55     | 56.7            | 48.9          | 50.7       | 19.8      |\n",
    "|Најнижа забележена темп:| -58.1  | -67.8 | -23.9  | -63             | -32.8         | -23        | -89.2     |\n",
    "\n",
    "Прикажи оба низа података хистограмима на истом графикону. Нека максималне температуре буду представљене црвеним стубићима, а минималне плавим. (Подаци су преузети са странице https://www.space.com/17816-earth-temperature.html)"
   ]
  },
  {
   "cell_type": "markdown",
   "metadata": {},
   "source": [
    "**Задатак 5.**\n",
    "\n",
    "*(а)* Пронађи на Интернету шта ради функција `barh` из библиотеке `matplotlib`.\n",
    "\n",
    "*(б)* Ако у решењу претходног задатка уместо функције `bar` употребиш функцију `barh` на оба места какав ћеш графикон добити?"
   ]
  },
  {
   "cell_type": "code",
   "execution_count": null,
   "metadata": {},
   "outputs": [],
   "source": []
  },
  {
   "cell_type": "markdown",
   "metadata": {},
   "source": [
    "**Задатак 6*.** Процењује се да је Кина на дан 1.7.2019. имала 1.420.062.022 становника, а Индија 1.368.737.513. Број становника у Кини се сваке године повећа за 0,35%, а у Индији за 1,08%. На истом дијаграму приказати **линијским графиком** очекивани број становника Кине и Индије у наредних десет година под претпоставком да се годишњи раст броја становника ни у једној од ове две државе неће мењати.\n",
    "\n",
    "Након колико година ће Индија престићи Кину по броју становника? Како се то може уочити са графикона?"
   ]
  },
  {
   "cell_type": "code",
   "execution_count": null,
   "metadata": {},
   "outputs": [],
   "source": []
  }
 ],
 "metadata": {
  "kernelspec": {
   "display_name": "Python 3",
   "language": "python",
   "name": "python3"
  },
  "language_info": {
   "codemirror_mode": {
    "name": "ipython",
    "version": 3
   },
   "file_extension": ".py",
   "mimetype": "text/x-python",
   "name": "python",
   "nbconvert_exporter": "python",
   "pygments_lexer": "ipython3",
   "version": "3.7.1"
  }
 },
 "nbformat": 4,
 "nbformat_minor": 2
}
