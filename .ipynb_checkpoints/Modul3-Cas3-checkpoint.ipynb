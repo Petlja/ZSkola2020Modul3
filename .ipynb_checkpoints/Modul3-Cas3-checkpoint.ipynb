{
 "cells": [
  {
   "cell_type": "markdown",
   "metadata": {},
   "source": [
    "# Модул 3, Час 3: Табеларно проедстављени подаци\n",
    "\n",
    "На овом часу ћемо показати:\n",
    "1. како се користи библиотека pandas за учитавање података који су представљени на разне начине,\n",
    "2. како се индексира табела,\n",
    "3. како се транспонује табела и зашто је транспоновање понекад згодно, и\n",
    "4. како се табеларно представљени подаци сортирају и филтрирају."
   ]
  },
  {
   "cell_type": "markdown",
   "metadata": {},
   "source": [
    "## 1. Библиотека *pandas* и учитавање података\n",
    "\n",
    "Најмукотрпнији посао обраде података се састоји у томе да се подаци унесу у табелу. То је досадан посао који се често састоји у томе да се подаци просто прекуцају. Табеле са којима смо се сретали су зато биле веома мале. Модерна обрада података се, међутим, све више усмерава на анализу *огромних* количина података (енгл. *big data*) и ту прекуцавање података не долази у обзир.\n",
    "\n",
    "### Учитавање из CSV датотека.\n",
    "\n",
    "Подаци се данас углавном прикупљају аутоматски, и програми за прикупљање података генеришу велике табеле података које после треба обрађивати. Постоје разни формати за табеларно представљање података, а најједноставнији од њих се зове *CSV*, (од енгл. *comma separated values* што значи \"вредности раздвојене зарезима\").\n",
    "\n",
    "*CSV* датотека је текстуална датотека у којој редови одговарају редовима табеле, а подаци унутар истог реда су раздвојени зарезима. На пример, у фолдеру *podaci* се налази датотека *Top 25 YouTubers.csv* која изгледа овако:\n",
    "\n",
    "    RANK,GRADE,NAME,VIDEOS,SUBSCRIBERS,VIEWES\n",
    "    1,A++,T-Series,13629,105783888,76945588449\n",
    "    2,A,PewDiePie,3898,97853589,22298927681\n",
    "    3,A+,5-Minute Crafts,3341,58629572,14860695079\n",
    "    4,A++,Cocomelon - Nursery Rhymes,441,53163816,33519273951\n",
    "    ...\n",
    "    25,A,TheEllenShow,10542,33362512,16519572219\n",
    "\n",
    "Ова табела садржи податке о 25 најпопуларнијих Јутјубера према броју претплатника на дан 1.7.2019. Први ред табеле представља заглавље табеле које нам каже да табела има шест колона (RANK, GRADE, NAME, VIDEOS, SUBSCRIBERS, VIEWES). Врста\n",
    "\n",
    "    4,A++,Cocomelon - Nursery Rhymes,441,53163816,33519273951\n",
    "\n",
    "значи да је на дан 1.7.2019. четврти по реду био Јутјуб канал са Јутјуб рангом А++ који се зове \"Cocomelon - Nursery Rhymes\" који је објавио укупно 441 видео на Јутјубу, који има 53.163.816 претплатника и 33.519.273.951 прегледа.\n",
    "\n",
    "Библиотека `pandas` има функцију `read_csv` која учитава *CSV* датотеку и од ње прави табелу типа *DataFrame*. Ево примера:"
   ]
  },
  {
   "cell_type": "code",
   "execution_count": null,
   "metadata": {},
   "outputs": [],
   "source": [
    "import pandas as pd\n",
    "Top25 = pd.read_csv(\"podaci/Top 25 YouTubers.csv\")"
   ]
  },
  {
   "cell_type": "markdown",
   "metadata": {},
   "source": [
    "Прикажимо првих неколико редова ове табеле. Функција `head(N)` приказује првих N редова табеле (енгл. *head* значи \"глава\"). Ако функцију позовемо без броја она ће приказати првих пет редова:"
   ]
  },
  {
   "cell_type": "code",
   "execution_count": null,
   "metadata": {},
   "outputs": [],
   "source": [
    "Top25.head()"
   ]
  },
  {
   "cell_type": "code",
   "execution_count": null,
   "metadata": {},
   "outputs": [],
   "source": [
    "Top25.head(10)"
   ]
  },
  {
   "cell_type": "markdown",
   "metadata": {},
   "source": [
    "Функција `tail(N)` приказује последњих N редова табеле, односно, последњих пет редова ако је позвемо без аргумента (енгл. *tail* значи \"реп\"):"
   ]
  },
  {
   "cell_type": "code",
   "execution_count": null,
   "metadata": {},
   "outputs": [],
   "source": [
    "Top25.tail()"
   ]
  },
  {
   "cell_type": "code",
   "execution_count": null,
   "metadata": {},
   "outputs": [],
   "source": [
    "Top25.tail(7)"
   ]
  },
  {
   "cell_type": "markdown",
   "metadata": {},
   "source": [
    "Прикажимо податке о броју претплатника стубичастим дијаграмом:"
   ]
  },
  {
   "cell_type": "code",
   "execution_count": null,
   "metadata": {},
   "outputs": [],
   "source": [
    "plt.figure(figsize=(15,10))\n",
    "plt.bar(Top25[\"NAME\"], Top25[\"SUBSCRIBERS\"])\n",
    "plt.title(\"Top 25 YouTube kanala prema broju pretplatnika\")\n",
    "plt.show()"
   ]
  },
  {
   "cell_type": "markdown",
   "metadata": {},
   "source": [
    "Пошто су имена канала веома дугачка на хоризонталној оси се ништа не види. Зато ћемо уместо функције `bar` позвати функцију `barh` која ради исти посао, али стубиће исцртава хоризонтално:"
   ]
  },
  {
   "cell_type": "code",
   "execution_count": null,
   "metadata": {},
   "outputs": [],
   "source": [
    "plt.figure(figsize=(10,10))\n",
    "plt.barh(Top25[\"NAME\"], Top25[\"SUBSCRIBERS\"])\n",
    "plt.title(\"Top 25 YouTube kanala prema broju pretplatnika\")\n",
    "plt.show()"
   ]
  },
  {
   "cell_type": "markdown",
   "metadata": {},
   "source": [
    "Библиотека *pandas* претпоставља да први ред табеле представља заглавље табеле. Уколико то није случај, приликом учитавања табеле морамо функцији *read_csv* објаснити да табела нема заглавље тако што наведемо опцију `header=None`:"
   ]
  },
  {
   "cell_type": "code",
   "execution_count": 6,
   "metadata": {},
   "outputs": [],
   "source": [
    "ta = pd.read_csv(\"podaci/TemperaturneAnomalije.csv\", header=None)"
   ]
  },
  {
   "cell_type": "markdown",
   "metadata": {},
   "source": [
    "Погледајмо како ова табела изгледа:"
   ]
  },
  {
   "cell_type": "code",
   "execution_count": 7,
   "metadata": {},
   "outputs": [
    {
     "data": {
      "text/html": [
       "<div>\n",
       "<style scoped>\n",
       "    .dataframe tbody tr th:only-of-type {\n",
       "        vertical-align: middle;\n",
       "    }\n",
       "\n",
       "    .dataframe tbody tr th {\n",
       "        vertical-align: top;\n",
       "    }\n",
       "\n",
       "    .dataframe thead th {\n",
       "        text-align: right;\n",
       "    }\n",
       "</style>\n",
       "<table border=\"1\" class=\"dataframe\">\n",
       "  <thead>\n",
       "    <tr style=\"text-align: right;\">\n",
       "      <th></th>\n",
       "      <th>0</th>\n",
       "      <th>1</th>\n",
       "      <th>2</th>\n",
       "      <th>3</th>\n",
       "      <th>4</th>\n",
       "      <th>5</th>\n",
       "      <th>6</th>\n",
       "      <th>7</th>\n",
       "      <th>8</th>\n",
       "      <th>9</th>\n",
       "      <th>...</th>\n",
       "      <th>31</th>\n",
       "      <th>32</th>\n",
       "      <th>33</th>\n",
       "      <th>34</th>\n",
       "      <th>35</th>\n",
       "      <th>36</th>\n",
       "      <th>37</th>\n",
       "      <th>38</th>\n",
       "      <th>39</th>\n",
       "      <th>40</th>\n",
       "    </tr>\n",
       "  </thead>\n",
       "  <tbody>\n",
       "    <tr>\n",
       "      <td>0</td>\n",
       "      <td>1977.00</td>\n",
       "      <td>1978.00</td>\n",
       "      <td>1979.00</td>\n",
       "      <td>1980.0</td>\n",
       "      <td>1981.00</td>\n",
       "      <td>1982.00</td>\n",
       "      <td>1983.0</td>\n",
       "      <td>1984.00</td>\n",
       "      <td>1985.00</td>\n",
       "      <td>1986.00</td>\n",
       "      <td>...</td>\n",
       "      <td>2008.00</td>\n",
       "      <td>2009.00</td>\n",
       "      <td>2010.00</td>\n",
       "      <td>2011.00</td>\n",
       "      <td>2012.00</td>\n",
       "      <td>2013.00</td>\n",
       "      <td>2014.00</td>\n",
       "      <td>2015.00</td>\n",
       "      <td>2016.0</td>\n",
       "      <td>2017.00</td>\n",
       "    </tr>\n",
       "    <tr>\n",
       "      <td>1</td>\n",
       "      <td>0.22</td>\n",
       "      <td>0.14</td>\n",
       "      <td>0.15</td>\n",
       "      <td>0.3</td>\n",
       "      <td>0.37</td>\n",
       "      <td>0.15</td>\n",
       "      <td>0.4</td>\n",
       "      <td>0.23</td>\n",
       "      <td>0.14</td>\n",
       "      <td>0.28</td>\n",
       "      <td>...</td>\n",
       "      <td>0.48</td>\n",
       "      <td>0.59</td>\n",
       "      <td>0.77</td>\n",
       "      <td>0.55</td>\n",
       "      <td>0.56</td>\n",
       "      <td>0.62</td>\n",
       "      <td>0.71</td>\n",
       "      <td>0.85</td>\n",
       "      <td>1.1</td>\n",
       "      <td>0.92</td>\n",
       "    </tr>\n",
       "  </tbody>\n",
       "</table>\n",
       "<p>2 rows × 41 columns</p>\n",
       "</div>"
      ],
      "text/plain": [
       "        0        1        2       3        4        5       6        7   \\\n",
       "0  1977.00  1978.00  1979.00  1980.0  1981.00  1982.00  1983.0  1984.00   \n",
       "1     0.22     0.14     0.15     0.3     0.37     0.15     0.4     0.23   \n",
       "\n",
       "        8        9   ...       31       32       33       34       35  \\\n",
       "0  1985.00  1986.00  ...  2008.00  2009.00  2010.00  2011.00  2012.00   \n",
       "1     0.14     0.28  ...     0.48     0.59     0.77     0.55     0.56   \n",
       "\n",
       "        36       37       38      39       40  \n",
       "0  2013.00  2014.00  2015.00  2016.0  2017.00  \n",
       "1     0.62     0.71     0.85     1.1     0.92  \n",
       "\n",
       "[2 rows x 41 columns]"
      ]
     },
     "execution_count": 7,
     "metadata": {},
     "output_type": "execute_result"
    }
   ],
   "source": [
    "ta"
   ]
  },
  {
   "cell_type": "markdown",
   "metadata": {},
   "source": [
    "### Учитавање из Ексел датотека\n",
    "\n",
    "Мајкрософтов Ексел (*Microsoft Excel*) представља један од најраспрострањенијих софтверских производа за обраду табеларно представљених података. Библиотека *pandas* зато има функцију која може да учита податке представљене Ексел табелом.\n",
    "\n",
    "Структура Ексел документа је релативно сложена јер у једном документу може да се налази више табела. Један Ексел документ се, зато, састоји из неколико *радних листова* (енгл. *work sheets*) па функцији за учитавање Ексел табеле поред имена датотеке треба дати и име радног листа са кога се учитава табела. Уколико се не наведе име радног листа функција ће учитати табелу из првог радног листа на који наиђе. Ово обично користимо само у ситуацијама када смо сигурни да Ексел радна свеска има само један радни лист.\n",
    "\n",
    "Сада ћемо из датотеке *Aditivi.xlsx* која се налази у фолдеру *podaci* учитати табелу из (јединог) радног листа \"Адитиви\":"
   ]
  },
  {
   "cell_type": "code",
   "execution_count": null,
   "metadata": {},
   "outputs": [],
   "source": [
    "aditivi = pd.read_excel(\"podaci/Aditivi.xlsx\", sheet_name=\"Адитиви\")"
   ]
  },
  {
   "cell_type": "markdown",
   "metadata": {},
   "source": [
    "Ова датотека садржи податке о адитивима, што су супстанце које се користе у индустрији. Неки од њих се користе и у индустрији хране. (Подаци су преузети из уџбеника биологије за 8. разред.)\n",
    "\n",
    "Ево првих неколико редова табеле:"
   ]
  },
  {
   "cell_type": "code",
   "execution_count": null,
   "metadata": {},
   "outputs": [],
   "source": [
    "aditivi.head(15)"
   ]
  },
  {
   "cell_type": "markdown",
   "metadata": {},
   "source": [
    "Видимо да су ћелије које су биле празне у Ексел табели овде добиле специјалну вредност *NaN* што је скраћеница од *not a number* (енгл. \"није број\"). Ово је специјална вредност која се користи да се открију потенцијалне грешке које могу да настану приликом учитавања великих табела. У нашем случају празне ћелије у колони \"Напомена\" и треба да остану празне, па ћемо табелу учитати поново, с тим да ћемо \"замолити Пајтон да искључи вештачку интелигенцију\":"
   ]
  },
  {
   "cell_type": "code",
   "execution_count": null,
   "metadata": {},
   "outputs": [],
   "source": [
    "aditivi = pd.read_excel(\"podaci/Aditivi.xlsx\", sheet_name=\"Адитиви\", na_filter=False)\n",
    "aditivi.head(15)"
   ]
  },
  {
   "cell_type": "markdown",
   "metadata": {},
   "source": [
    "Аргумент `na_filter=False` каже функцији `read_excel` да празне ћелије остану празне и да у њих не уноси вредност *NaN*."
   ]
  },
  {
   "cell_type": "markdown",
   "metadata": {},
   "source": [
    "### Учитавање из удаљених ресурса\n",
    "\n",
    "Могуће је преузети и податке са удаљених ресурса без потребе да се они прво пребаце на локалну машину. Да бисмо приступили податку који се налази на некој другој машини потребно је да обе машине имају приступ Интернету и да знамо тачну локацију податка на удаљеној машини. Тачна локација било ког ресурса на Интернету је описана његовим *URL*-ом (од енгл. *Universal Resource Locator*, што значи \"Универзални локатор ресурса\").\n",
    "\n",
    "На адреси\n",
    "\n",
    "    https://raw.githubusercontent.com/cs109/2014_data/master/countries.csv\n",
    "    \n",
    "се налази јавно доступан списак свих држава на свету. Ову табелу можемо лако учитати наредбом `read_csv`:"
   ]
  },
  {
   "cell_type": "code",
   "execution_count": null,
   "metadata": {
    "scrolled": true
   },
   "outputs": [],
   "source": [
    "drzave = pd.read_csv(\"https://raw.githubusercontent.com/cs109/2014_data/master/countries.csv\")\n",
    "drzave.head(10)"
   ]
  },
  {
   "cell_type": "markdown",
   "metadata": {},
   "source": [
    "Помоћу наредбе `read_html` може се прочитати и табела директно из *HTML* кода неке веб странице. Рецимо, следећа наредба чита списак свих федералних јединица Сједињених Америчких Држава са одговарајуће странице Википедије:"
   ]
  },
  {
   "cell_type": "code",
   "execution_count": null,
   "metadata": {},
   "outputs": [],
   "source": [
    "US = pd.read_html(\"https://simple.wikipedia.org/wiki/List_of_U.S._states\", header=[0,1])[0]"
   ]
  },
  {
   "cell_type": "markdown",
   "metadata": {},
   "source": [
    "На веб страни коју читамо може бити више табела и зато функција `read_html` враћа *листу табела*. Табела коју желимо да видимо је прва на наведеној страни и зато иза наредбе следи конструкт `[0]`. Аргумент `header=[0,1]` значи да прве две врсте треба узети за заглавље табеле. Ево како изгледа табела:"
   ]
  },
  {
   "cell_type": "code",
   "execution_count": null,
   "metadata": {
    "scrolled": true
   },
   "outputs": [],
   "source": [
    "US.head()"
   ]
  },
  {
   "cell_type": "markdown",
   "metadata": {},
   "source": [
    "## 2. Индексирање табеле"
   ]
  },
  {
   "cell_type": "markdown",
   "metadata": {},
   "source": [
    "Видели смо да је рад са колонама табеле веома једноставан.\n",
    "\n",
    "Да бисмо могли да радимо са редовима табеле треба прво да нађемо једну колону чија вредност једнозначно одређује цео ред табеле. На пример, у табели са прошлог часа\n",
    "\n",
    "| **Ime** | **Pol** | **Starost** | **Masa** | **Visina** |\n",
    "|---|---|---|---|---|\n",
    "|      Ana | ž | 13 | 46 | 160 |\n",
    "|    Bojan | m | 14 | 52 | 165 |\n",
    "|    Vlada | m | 13 | 47 | 157 |\n",
    "|  Gordana | ž | 15 | 54 | 165 |\n",
    "|    Dejan | m | 15 | 56 | 163 |\n",
    "|    Đorđe | m | 13 | 45 | 159 |\n",
    "|    Elena | ž | 14 | 49 | 161 |\n",
    "|  Žaklina | ž | 15 | 52 | 164 |\n",
    "|    Zoran | m | 15 | 57 | 167 |\n",
    "|    Ivana | ž | 13 | 45 | 158 |\n",
    "|    Jasna | ž | 14 | 51 | 162 |\n",
    "\n",
    "колона \"Ime\" је таква колона (колона \"Visina\" није погодна јер имамо двоје деце са висином 165, па када кажемо \"дете са висином 165\" није јасно о коме се ради; исто тако ни колоне \"Pol\", \"Starost\" и \"Masa\" нису погодне).\n",
    "\n",
    "Таква колона се зове *кључ* јер је она *кључна* за приступање редовима табеле. Ако желимо да приступамо елементима табеле по редовима, морамо систему да пријавимо коју колону ћемо користити као кључ. То се постиже позивом функције `set_index` којој проследимо име колоне, а она врати нову табелу \"индексирану по датом кључу\":"
   ]
  },
  {
   "cell_type": "code",
   "execution_count": null,
   "metadata": {},
   "outputs": [],
   "source": [
    "podaci = [[\"Ana\",     \"ž\", 13, 46, 160],\n",
    "          [\"Bojan\",   \"m\", 14, 52, 165],\n",
    "          [\"Vlada\",   \"m\", 13, 47, 157],\n",
    "          [\"Gordana\", \"ž\", 15, 54, 165],\n",
    "          [\"Dejan\",   \"m\", 15, 56, 163],\n",
    "          [\"Đorđe\",   \"m\", 13, 45, 159],\n",
    "          [\"Elena\",   \"ž\", 14, 49, 161],\n",
    "          [\"Žaklina\", \"ž\", 15, 52, 164],\n",
    "          [\"Zoran\",   \"m\", 15, 57, 167],\n",
    "          [\"Ivana\",   \"ž\", 13, 45, 158],\n",
    "          [\"Jasna\",   \"ž\", 14, 51, 162]]\n",
    "tabela = pd.DataFrame(podaci)\n",
    "tabela.columns=[\"Ime\", \"Pol\", \"Starost\", \"Masa\", \"Visina\"]\n",
    "tabela1=tabela.set_index(\"Ime\")"
   ]
  },
  {
   "cell_type": "markdown",
   "metadata": {},
   "source": [
    "Нова табела (`tabela1`) се од старе (`tabela`) разликује само по томе што редови више нису индексирани бројевима (0, 1, 2, ...) већ именима деце (Ana, Bojan, Vlada, ...). Ево старе (неиндексиране табеле) која има колону \"Ime\" и чији редови су индексирани бројевима:"
   ]
  },
  {
   "cell_type": "code",
   "execution_count": null,
   "metadata": {},
   "outputs": [],
   "source": [
    "tabela"
   ]
  },
  {
   "cell_type": "markdown",
   "metadata": {},
   "source": [
    "А ево и нове табеле у којој су редови индексирани именима деце:"
   ]
  },
  {
   "cell_type": "code",
   "execution_count": null,
   "metadata": {},
   "outputs": [],
   "source": [
    "tabela1"
   ]
  },
  {
   "cell_type": "markdown",
   "metadata": {},
   "source": [
    "Колона \"Ime\" је и даље присутна у табели `tabela1`, али има посебан статус. Ако покушамо да јој приступимо као \"обичној\" колони добићемо грешку:"
   ]
  },
  {
   "cell_type": "code",
   "execution_count": null,
   "metadata": {},
   "outputs": [],
   "source": [
    "tabela1[\"Ime\"]"
   ]
  },
  {
   "cell_type": "markdown",
   "metadata": {},
   "source": [
    "Међутим, она је ту као *индексна колона*:"
   ]
  },
  {
   "cell_type": "code",
   "execution_count": null,
   "metadata": {},
   "outputs": [],
   "source": [
    "tabela1.index"
   ]
  },
  {
   "cell_type": "markdown",
   "metadata": {},
   "source": [
    "Ако желимо да прикажемо висину деце у групи графиконом тако да имена деце буду на хоризонталној оси, то сада можемо урадити овако:"
   ]
  },
  {
   "cell_type": "code",
   "execution_count": null,
   "metadata": {},
   "outputs": [],
   "source": [
    "import matplotlib.pyplot as plt\n",
    "plt.figure(figsize=(10,5))\n",
    "plt.bar(tabela1.index, tabela1[\"Visina\"])\n",
    "plt.title(\"Visina dece u grupi\")\n",
    "plt.show()"
   ]
  },
  {
   "cell_type": "markdown",
   "metadata": {},
   "source": [
    "Ознаке на хоризонталној оси узимамо из индексне колоне `tabela1.index`, док податке о висини стубића узимамо из колоне `tabela1[\"Visina\"]`."
   ]
  },
  {
   "cell_type": "markdown",
   "metadata": {},
   "source": [
    "Структура података *DataFrame* је оптимизована за рад са колонама табеле. Срећом, када имамо индексирану табелу као што је то `tabela1`, користећи функцију `loc` (од енгл. *location* што значи \"локација, положај, место\") можемо да приступамо редовима табеле, као и појединачним ћелијама табеле.\n",
    "\n",
    "Податке о појединачним редовима табеле можемо да видимо овако:"
   ]
  },
  {
   "cell_type": "code",
   "execution_count": null,
   "metadata": {},
   "outputs": [],
   "source": [
    "tabela1.loc[\"Dejan\"]"
   ]
  },
  {
   "cell_type": "markdown",
   "metadata": {},
   "source": [
    "Као аргумент функције `loc` можемо да наведемо и распон, и тако ћемо добити одговарајући део табеле:"
   ]
  },
  {
   "cell_type": "code",
   "execution_count": null,
   "metadata": {
    "scrolled": true
   },
   "outputs": [],
   "source": [
    "tabela1.loc[\"Dejan\":\"Zoran\"]"
   ]
  },
  {
   "cell_type": "markdown",
   "metadata": {},
   "source": [
    "Ако као други аргумент функције `loc` наведемо име колоне, рецимо овако:\n",
    "\n",
    "    tabela1.loc[\"Dejan\", \"Visina\"]\n",
    "\n",
    "добићемо информацију о Дејановој висини."
   ]
  },
  {
   "cell_type": "code",
   "execution_count": null,
   "metadata": {
    "scrolled": true
   },
   "outputs": [],
   "source": [
    "tabela1.loc[\"Dejan\", \"Visina\"]"
   ]
  },
  {
   "cell_type": "markdown",
   "metadata": {},
   "source": [
    "Ево како можемо да добијемо информацију о маси и висини неколико деце:"
   ]
  },
  {
   "cell_type": "code",
   "execution_count": null,
   "metadata": {
    "scrolled": true
   },
   "outputs": [],
   "source": [
    "tabela1.loc[\"Dejan\":\"Zoran\", \"Masa\":\"Visina\"]"
   ]
  },
  {
   "cell_type": "markdown",
   "metadata": {},
   "source": [
    "Ево још једног једноставног примера. У ћелији испод дате су оцене неких ученика из информатике, енглеског, математике, физике, хемије и ликовног:"
   ]
  },
  {
   "cell_type": "code",
   "execution_count": null,
   "metadata": {},
   "outputs": [],
   "source": [
    "razred = [[\"Ana\",     5, 3, 5, 2, 4, 5],\n",
    "          [\"Bojan\",   5, 5, 5, 5, 5, 5],\n",
    "          [\"Vlada\",   4, 5, 3, 4, 5, 4],\n",
    "          [\"Gordana\", 5, 5, 5, 5, 5, 5],\n",
    "          [\"Dejan\",   3, 4, 2, 3, 3, 4],\n",
    "          [\"Đorđe\",   4, 5, 3, 4, 5, 4],\n",
    "          [\"Elena\",   3, 3, 3, 4, 2, 3],\n",
    "          [\"Žaklina\", 5, 5, 4, 5, 4, 5],\n",
    "          [\"Zoran\",   4, 5, 4, 4, 3, 5],\n",
    "          [\"Ivana\",   2, 2, 2, 2, 2, 5],\n",
    "          [\"Jasna\",   3, 4, 5, 4, 5, 5]]"
   ]
  },
  {
   "cell_type": "markdown",
   "metadata": {},
   "source": [
    "Сада ћемо од ових података направити табелу чије колоне ће се звати \"Ime\", \"Informatika\", \"Engleski\", \"Matematika\", \"Fizika\", \"Hemija\", \"Likovno\" и која ће бити индексирана по колони \"Ime\":"
   ]
  },
  {
   "cell_type": "code",
   "execution_count": null,
   "metadata": {},
   "outputs": [],
   "source": [
    "ocene = pd.DataFrame(razred)\n",
    "ocene.columns=[\"Ime\", \"Informatika\", \"Engleski\", \"Matematika\", \"Fizika\", \"Hemija\", \"Likovno\"]\n",
    "ocene1 = ocene.set_index(\"Ime\")\n",
    "ocene1"
   ]
  },
  {
   "cell_type": "markdown",
   "metadata": {},
   "source": [
    "Ако желимо да израчунамо просек по предметима, треба на сваку колону ове табеле да применимо функцију `mean`. Листа са именима свих колона табеле `ocene1` се добија као `ocene1.columns`, па сада само треба да прођемо кроз ову листу и за сваку колону да израчунамо просек:"
   ]
  },
  {
   "cell_type": "code",
   "execution_count": null,
   "metadata": {},
   "outputs": [],
   "source": [
    "for predmet in ocene1.columns:\n",
    "    print(predmet, \"->\", round(ocene1[predmet].mean(), 2))"
   ]
  },
  {
   "cell_type": "markdown",
   "metadata": {},
   "source": [
    "Да бисмо израчунали просечне оцене сваког ученика функцију `mean` ћемо применити на врсте табеле које добијамо позивом функције `loc`. Погледајмо, прво, како то можемо да урадимо за једног ученика:"
   ]
  },
  {
   "cell_type": "code",
   "execution_count": null,
   "metadata": {
    "scrolled": true
   },
   "outputs": [],
   "source": [
    "print(\"Đorđe ima sledeće ocene:\")\n",
    "print(ocene1.loc[\"Đorđe\"])\n",
    "print(\"Prosek njegovih ocena je:\", round(ocene1.loc[\"Đorđe\"].mean(), 2))"
   ]
  },
  {
   "cell_type": "markdown",
   "metadata": {},
   "source": [
    "Списак свих ученика се налази у индексној колони, па просеке по свим ученицима можемо да израчунамо овако:"
   ]
  },
  {
   "cell_type": "code",
   "execution_count": null,
   "metadata": {
    "scrolled": true
   },
   "outputs": [],
   "source": [
    "for ucenik in ocene1.index:\n",
    "    print(ucenik, \"->\", round(ocene1.loc[ucenik].mean(), 2))"
   ]
  },
  {
   "cell_type": "markdown",
   "metadata": {},
   "source": [
    "## 3. Транспоновање табеле\n",
    "\n",
    "Замена врста и колона табеле се зове *транспоновање*. Приликом транспоновања имена колона полазне табеле постају индекси нове табеле, док индексна колона полазне табеле одређује имена колона нове табеле:\n",
    "\n",
    "![Транспоновање](slike/DataFrame-T.jpg)\n",
    "\n",
    "Транспоновање се често користи када табела има мало веома дугачких редова, па је у неким ситуацијама лакше посматрати транспоновану табелу која онда има пуно релативно кратких редова. Функције `head` и `tail` нам тада омогућују да се брзо упознамо са почетком и крајем табеле и да стекнемо неку интуицију о томе како табела изгледа.\n",
    "\n",
    "Важно је рећи и то да се са табелама може радити и без транспоновања, јер све што можемо да урадимо на колонама табеле можемо да урадимо и на врстама. И поред тога, транспоновање се често користи јер је библиотека `pandas` оптимизована за рад по колонама табеле.\n",
    "\n",
    "Табела се транспонује тако што се на њу примени функција `Т` која као резултат враћа нову, транспоновану табелу.\n",
    "\n",
    "Ево примера са оценама:"
   ]
  },
  {
   "cell_type": "code",
   "execution_count": null,
   "metadata": {
    "scrolled": true
   },
   "outputs": [],
   "source": [
    "ocene1"
   ]
  },
  {
   "cell_type": "markdown",
   "metadata": {},
   "source": [
    "Транспоновану табелу добијамо овако:"
   ]
  },
  {
   "cell_type": "code",
   "execution_count": null,
   "metadata": {},
   "outputs": [],
   "source": [
    "ocene2 = ocene1.T"
   ]
  },
  {
   "cell_type": "code",
   "execution_count": null,
   "metadata": {},
   "outputs": [],
   "source": [
    "ocene2"
   ]
  },
  {
   "cell_type": "markdown",
   "metadata": {},
   "source": [
    "Хајде још да се уверимо да су врсте и колоне замениле места и у пољима `index` и `columns`. У полазној табели је:"
   ]
  },
  {
   "cell_type": "code",
   "execution_count": null,
   "metadata": {},
   "outputs": [],
   "source": [
    "ocene1.index"
   ]
  },
  {
   "cell_type": "code",
   "execution_count": null,
   "metadata": {},
   "outputs": [],
   "source": [
    "ocene1.columns"
   ]
  },
  {
   "cell_type": "markdown",
   "metadata": {},
   "source": [
    "А у транспонованој табели је:"
   ]
  },
  {
   "cell_type": "code",
   "execution_count": null,
   "metadata": {},
   "outputs": [],
   "source": [
    "ocene2.index"
   ]
  },
  {
   "cell_type": "code",
   "execution_count": null,
   "metadata": {},
   "outputs": [],
   "source": [
    "ocene2.columns"
   ]
  },
  {
   "cell_type": "markdown",
   "metadata": {},
   "source": [
    "Како смо раније већ видели, просек оцена по предметима добијамо лако:"
   ]
  },
  {
   "cell_type": "code",
   "execution_count": null,
   "metadata": {},
   "outputs": [],
   "source": [
    "for predmet in ocene1.columns:\n",
    "    print(predmet, \"->\", round(ocene1[predmet].mean(), 2))"
   ]
  },
  {
   "cell_type": "markdown",
   "metadata": {},
   "source": [
    "Да бисмо добили просек оцена по ученицима, можемо да приступимо врстама табеле користећи функцију `loc` како смо то већ видели, али можемо и да употребимо транспоновану табелу (рачунање просека по колонама, јер су колоне транспоноване табеле заправо врсте полазне табеле):"
   ]
  },
  {
   "cell_type": "code",
   "execution_count": null,
   "metadata": {},
   "outputs": [],
   "source": [
    "for ucenik in ocene2.columns:\n",
    "    print(ucenik, \"->\", round(ocene2[ucenik].mean(), 2))"
   ]
  },
  {
   "cell_type": "markdown",
   "metadata": {},
   "source": [
    "## 4. Елементарна анализа табеларно представљених података\n",
    "\n",
    "*Сортирати податке* значи поређати их по величини. Да бисмо видели како се то ради у библиотеци *pandas* прво ћемо размотрити табелу са подацима о групи деце коју смо већ користили, колонама ћемо дати одговарајућа имена и индексираћемо табелу именима деце:"
   ]
  },
  {
   "cell_type": "code",
   "execution_count": null,
   "metadata": {},
   "outputs": [],
   "source": [
    "podaci = [[\"Ana\",     \"ž\", 13, 46, 160],\n",
    "          [\"Bojan\",   \"m\", 14, 52, 165],\n",
    "          [\"Vlada\",   \"m\", 13, 47, 157],\n",
    "          [\"Gordana\", \"ž\", 15, 54, 165],\n",
    "          [\"Dejan\",   \"m\", 15, 56, 163],\n",
    "          [\"Đorđe\",   \"m\", 13, 45, 159],\n",
    "          [\"Elena\",   \"ž\", 14, 49, 161],\n",
    "          [\"Žaklina\", \"ž\", 15, 52, 164],\n",
    "          [\"Zoran\",   \"m\", 15, 57, 167],\n",
    "          [\"Ivana\",   \"ž\", 13, 45, 158],\n",
    "          [\"Jasna\",   \"ž\", 14, 51, 162]]\n",
    "tabela = pd.DataFrame(podaci)\n",
    "tabela.columns=[\"Ime\", \"Pol\", \"Starost\", \"Masa\", \"Visina\"]\n",
    "tabela1 = tabela.set_index(\"Ime\")"
   ]
  },
  {
   "cell_type": "markdown",
   "metadata": {},
   "source": [
    "Ево како табела изгледа:"
   ]
  },
  {
   "cell_type": "code",
   "execution_count": null,
   "metadata": {},
   "outputs": [],
   "source": [
    "tabela1"
   ]
  },
  {
   "cell_type": "markdown",
   "metadata": {},
   "source": [
    "Хајде сада да сортирамо табелу по висини употребом функције `sort_values` (енгл. *sort* значи \"сортирај, поређај по величини\", док *values* значи \"вредности\").\n",
    "\n",
    "Овој функцији морамо да кажемо по ком критеријуму се сортирају подаци (по висини, тежини, старости, ...) тако што име одговарајуће колоне наведемо као вредност аргумента `by` (енгл. реч \"by\" значи свашта, али у овом контексту значи \"према\").\n",
    "\n",
    "Функција не мења полазну табелу, већ од ње прави нову:"
   ]
  },
  {
   "cell_type": "code",
   "execution_count": null,
   "metadata": {},
   "outputs": [],
   "source": [
    "tabela1_po_visini = tabela1.sort_values(by=\"Visina\")\n",
    "tabela1_po_visini"
   ]
  },
  {
   "cell_type": "markdown",
   "metadata": {},
   "source": [
    "Пошто нисмо навели како желимо да сортирамо податке (од најмањег ка највећем, или обрнуто) подаци су сортирани од најмањег ка највећем. Уколико желимо да сортирамо табелу по висини, али од највеће ка најмањој, потребно је то нагласити користећи параметар `ascending=False` (енгл. *ascending* значи \"растуће\")."
   ]
  },
  {
   "cell_type": "code",
   "execution_count": null,
   "metadata": {},
   "outputs": [],
   "source": [
    "tabela1_po_visini = tabela1.sort_values(by=\"Visina\", ascending=False)\n",
    "tabela1_po_visini"
   ]
  },
  {
   "cell_type": "markdown",
   "metadata": {},
   "source": [
    "Хајде, за крај, да прикажемо податке из овако сортиране табеле."
   ]
  },
  {
   "cell_type": "code",
   "execution_count": null,
   "metadata": {},
   "outputs": [],
   "source": [
    "plt.figure(figsize=(10,5))\n",
    "plt.bar(tabela1_po_visini.index, tabela1_po_visini[\"Visina\"], label=\"Visina\")\n",
    "plt.bar(tabela1_po_visini.index, tabela1_po_visini[\"Masa\"], label=\"Masa\")\n",
    "plt.title(\"Visina i masa dece u grupi\")\n",
    "plt.legend()\n",
    "plt.show()"
   ]
  },
  {
   "cell_type": "markdown",
   "metadata": {},
   "source": [
    "Често је из табеле потребно издвојити редове који имају неке особине. На пример, ако желимо да издвојимо само оне редове табеле у којима су наведени подаци о девојчицама, то можемо урадити на следећи начин:\n",
    "\n",
    "    tabela1[tabela1.Pol == \"ž\"]\n",
    "\n",
    "Овај израз ће из табеле `tabela1` издвојити све редове код којих у колони \"Pol\" пише \"ž\". (Обратите пажњу на то да се приликом формирања критеријума у изразу `tabela1.Pol` не пишу наводници! Не питајте зашто...)"
   ]
  },
  {
   "cell_type": "code",
   "execution_count": null,
   "metadata": {},
   "outputs": [],
   "source": [
    "devojke = tabela1[tabela1.Pol == \"ž\"]\n",
    "devojke"
   ]
  },
  {
   "cell_type": "markdown",
   "metadata": {},
   "source": [
    "На сличан начин можемо да издвојимо сву децу која имају преко 50 кг:"
   ]
  },
  {
   "cell_type": "code",
   "execution_count": null,
   "metadata": {},
   "outputs": [],
   "source": [
    "preko_50kg = tabela1[tabela1.Masa > 50]\n",
    "preko_50kg"
   ]
  },
  {
   "cell_type": "markdown",
   "metadata": {},
   "source": [
    "Критеријуме можемо и да комбинујемо. На пример, ако желимо да из табеле извучемо податке о свим дечацима са највише 55 кг треба из табеле да издвојимо податке који задовољавају два критеријума:\n",
    "\n",
    "    Masa <= 55  и  Pol == \"m\".\n",
    "\n",
    "Логички везник \"и\" се у библиотеци `pandas` означава симболом `&`. Према томе, податке добијамо тако што табели проследимо следећи захтев за филтрирање:"
   ]
  },
  {
   "cell_type": "code",
   "execution_count": null,
   "metadata": {},
   "outputs": [],
   "source": [
    "decaci_do_55kg = tabela1[(tabela1.Masa <= 55) & (tabela1.Pol == \"m\")]\n",
    "decaci_do_55kg"
   ]
  },
  {
   "cell_type": "markdown",
   "metadata": {},
   "source": [
    "Приказаћемо, за крај, податке о маси и висини ових дечака једним графиконом:"
   ]
  },
  {
   "cell_type": "code",
   "execution_count": null,
   "metadata": {},
   "outputs": [],
   "source": [
    "plt.figure(figsize=(6,6))\n",
    "plt.bar(decaci_do_55kg.index, decaci_do_55kg[\"Visina\"], label=\"Visina\")\n",
    "plt.bar(decaci_do_55kg.index, decaci_do_55kg[\"Masa\"], label=\"Masa\")\n",
    "plt.title(\"Visina i masa dečaka do 55 kg u grupi\")\n",
    "plt.legend()\n",
    "plt.show()"
   ]
  },
  {
   "cell_type": "markdown",
   "metadata": {},
   "source": [
    "Да се подсетимо, фреквенцијска анализа низа података се своди на то да се преброји колико се пута који податак појављује у низу.  Док смо раније морали доста тога сами да урадимо, библиотека `pandas` има функцију `value_counts` која врши фреквенцијску анализу (енгл. *value* значи \"вредност\", док *count* значи \"бројати\"; дакле, пребројати вредности).\n",
    "\n",
    "Ево примера. Ако у табели са којом радимо желимо да пребројимо дечаке и девојчице, то можемо учинити позивом функције `value_counts` овако:"
   ]
  },
  {
   "cell_type": "code",
   "execution_count": null,
   "metadata": {},
   "outputs": [],
   "source": [
    "tabela1[\"Pol\"].value_counts()"
   ]
  },
  {
   "cell_type": "markdown",
   "metadata": {},
   "source": [
    "Функција `value_counts` је у колони \"Pol\" пребројала све вредности и утврдила да се у тој колони вредност \"ž\" појављује 6 пута, док се вредност \"m\" појављује 5 пута.\n",
    "\n",
    "Ако желимо да утврдимо старосну структуру групе, применићемо функцију `value_counts` на колону \"Starost\":"
   ]
  },
  {
   "cell_type": "code",
   "execution_count": null,
   "metadata": {},
   "outputs": [],
   "source": [
    "tabela1[\"Starost\"].value_counts()"
   ]
  },
  {
   "cell_type": "markdown",
   "metadata": {},
   "source": [
    "Функција `value_counts` је у колони \"Starost\" пребројала све вредности и утврдила да се у тој колони вредности 15 и 13 појављују по 4 пута, док се вредност 14 појављује 3 пута.\n",
    "\n",
    "Ако резултат рада функције `value_counts` сместимо у променљиву:"
   ]
  },
  {
   "cell_type": "code",
   "execution_count": null,
   "metadata": {},
   "outputs": [],
   "source": [
    "frekv = tabela1[\"Pol\"].value_counts()\n",
    "frekv"
   ]
  },
  {
   "cell_type": "markdown",
   "metadata": {},
   "source": [
    "онда можемо лако да реконструишемо које су вредности уочене у табели, и које су њихове фреквенције. Наиме,\n",
    "\n",
    "    frekv.index\n",
    "    \n",
    "нам даје листу уочених вредности, док\n",
    "    \n",
    "    frekv.values\n",
    "\n",
    "даје њихове фреквенције."
   ]
  },
  {
   "cell_type": "code",
   "execution_count": null,
   "metadata": {},
   "outputs": [],
   "source": [
    "print(\"Vrednosti koje se javljaju u koloni:\", frekv.index)\n",
    "print(\"Njihove frekvencije:\", frekv.values)"
   ]
  },
  {
   "cell_type": "markdown",
   "metadata": {},
   "source": [
    "Полну структуру ове групе деце можемо да прикажемо секторским дијаграмом овако:"
   ]
  },
  {
   "cell_type": "code",
   "execution_count": null,
   "metadata": {},
   "outputs": [],
   "source": [
    "frekv = tabela1[\"Pol\"].value_counts()\n",
    "plt.figure(figsize=(6,6))\n",
    "plt.pie(frekv.values, labels=frekv.index)\n",
    "plt.title(\"Polna struktura grupe\")\n",
    "plt.show()"
   ]
  },
  {
   "cell_type": "markdown",
   "metadata": {},
   "source": [
    "На сличан начин можемо да прикажемо старосну структуру групе:"
   ]
  },
  {
   "cell_type": "code",
   "execution_count": null,
   "metadata": {},
   "outputs": [],
   "source": [
    "frekv = tabela1[\"Starost\"].value_counts()\n",
    "plt.figure(figsize=(6,6))\n",
    "plt.pie(frekv.values, labels=frekv.index)\n",
    "plt.title(\"Starosna struktura grupe\")\n",
    "plt.show()"
   ]
  },
  {
   "cell_type": "markdown",
   "metadata": {},
   "source": [
    "На адреси\n",
    "\n",
    "    https://raw.githubusercontent.com/cs109/2014_data/master/countries.csv\n",
    "    \n",
    "се налази јавно доступан списак свих држава на свету. Ову табелу можемо лако учитати наредбом `read_csv`:"
   ]
  },
  {
   "cell_type": "code",
   "execution_count": null,
   "metadata": {},
   "outputs": [],
   "source": [
    "drzave = pd.read_csv(\"https://raw.githubusercontent.com/cs109/2014_data/master/countries.csv\")\n",
    "drzave.head(5)"
   ]
  },
  {
   "cell_type": "markdown",
   "metadata": {},
   "source": [
    "Број држава по континентима можемо видети овако:"
   ]
  },
  {
   "cell_type": "code",
   "execution_count": null,
   "metadata": {},
   "outputs": [],
   "source": [
    "drzave[\"Region\"].value_counts()"
   ]
  },
  {
   "cell_type": "markdown",
   "metadata": {},
   "source": [
    "Прикажимо број држава по континентима секторским дијаграмом:"
   ]
  },
  {
   "cell_type": "code",
   "execution_count": null,
   "metadata": {},
   "outputs": [],
   "source": [
    "po_kontinentima = drzave[\"Region\"].value_counts()\n",
    "plt.figure(figsize=(8,8))\n",
    "plt.pie(po_kontinentima.values, labels=po_kontinentima.index)\n",
    "plt.title(\"Број држава по континентима\")\n",
    "plt.show()"
   ]
  },
  {
   "cell_type": "markdown",
   "metadata": {},
   "source": [
    "## 5. Задаци"
   ]
  },
  {
   "cell_type": "markdown",
   "metadata": {},
   "source": [
    "**Задатак 1.** Пажљиво погледај овај Пајтон програм па одговори на питања која следе:"
   ]
  },
  {
   "cell_type": "code",
   "execution_count": null,
   "metadata": {},
   "outputs": [],
   "source": [
    "import pandas as pd\n",
    "import matplotlib.pyplot as plt\n",
    "\n",
    "podaci = [[\"Ana\",     \"ž\", 13, 46, 160],\n",
    "          [\"Bojan\",   \"m\", 14, 52, 165],\n",
    "          [\"Vlada\",   \"m\", 13, 47, 157],\n",
    "          [\"Gordana\", \"ž\", 15, 54, 165],\n",
    "          [\"Dejan\",   \"m\", 15, 56, 163],\n",
    "          [\"Đorđe\",   \"m\", 13, 45, 159]]\n",
    "\n",
    "tabela = pd.DataFrame(podaci)\n",
    "tabela.columns=[\"Ime\", \"Pol\", \"Starost\", \"Masa\", \"Visina\"]\n",
    "\n",
    "tabela1=tabela.set_index(\"Ime\")\n",
    "\n",
    "print(tabela[\"Visina\"].min(), tabela[\"Visina\"].mean(), tabela[\"Visina\"].median())\n",
    "\n",
    "plt.figure(figsize=(10,5))\n",
    "plt.bar(tabela[\"Ime\"], tabela[\"Visina\"])\n",
    "plt.show()\n",
    "\n",
    "temp_anomalije = pd.read_csv(\"podaci/TemperaturneAnomalije.csv\", header=None)\n",
    "\n",
    "temp_anomalije1 = temp_anomalije.T\n",
    "temp_anomalije1.columns = [\"Година\", \"Аномалија\"]\n",
    "\n",
    "drzave = pd.read_csv(\"https://raw.githubusercontent.com/cs109/2014_data/master/countries.csv\")\n",
    "US = pd.read_html(\"https://simple.wikipedia.org/wiki/List_of_U.S._states\", header=[0,1])[0]"
   ]
  },
  {
   "cell_type": "markdown",
   "metadata": {},
   "source": [
    "1. Зашто учитавамо две библиотеке?\n",
    "2. Зашто не радимо са подацима у облику листе, већ компликујемо себи живот структуром података *DataFrame* из библиотеке *pandas*?\n",
    "3. Како се зову колоне табеле `tabela`?\n",
    "4. У чему је разлика између функција `min`, `mean` и `median`?\n",
    "5. Како треба изменити програм па да на дијаграму поред висине добијемо и графички приказ масе деце?\n",
    "6. Како бисмо учитали табелу `TemperaturneAnomalije.csv` када би она имала заглавље?\n",
    "7. Да ли је табела `drzave` формирана на основу података који су смештени локално, на твом рачунару?\n",
    "8. У ком формату су представљени подаци на основу којих је формирана табела `US`?\n",
    "9. Шта би се десило када би у интернет претраживач укуцао `https://simple.wikipedia.org/wiki/List_of_U.S._states`?\n",
    "10. У чему је разлика између табела `tabela` и `tabela1`?\n",
    "11. Шта представља израз `tabela1.index`?\n",
    "12. Шта је вредност израза `tabela1.loc[\"Ђорђе\"]`?\n",
    "13. Шта је вредност израза `tabela1.loc[\"Ђорђе\", \"Висина\"]`?\n",
    "14. Шта је вредност израза `tabela.loc[\"Ђорђе\", \"Висина\"]`?\n",
    "15. Зашто смо на табелу `temp_anomalije` применили функцију `T`?\n",
    "16. Колико колона има табела `temp_anomalije1`?"
   ]
  },
  {
   "cell_type": "markdown",
   "metadata": {},
   "source": [
    "**Задатак 2.** У следећој листи су дати подаци о националним парковима Србије. За сваки национални парк је наведено његово име, површина у хектарима и година оснивања:"
   ]
  },
  {
   "cell_type": "code",
   "execution_count": null,
   "metadata": {},
   "outputs": [],
   "source": [
    "nac_parkovi = [[\"Fruška gora\", 25393, 1960],\n",
    "               [\"Đerdap\",      64000, 1974],\n",
    "               [\"Tara\",        22000, 1981],\n",
    "               [\"Kopaonik\",    11810, 1981],\n",
    "               [\"Šar-planina\", 39000, 1985]]"
   ]
  },
  {
   "cell_type": "markdown",
   "metadata": {},
   "source": [
    "*(а)* Од ове листе направи *DataFrame* па израчунај просечну површину националног парка (у хектарима), и укупну површину коју заузимају национални паркови у Србији (у квадратним километрима; 1 квадратни километар = 100 хектара)."
   ]
  },
  {
   "cell_type": "markdown",
   "metadata": {},
   "source": [
    "*(б)* Прикажи линијским графиконом површине националних паркова у Србији."
   ]
  },
  {
   "cell_type": "markdown",
   "metadata": {},
   "source": [
    "**Задатак 3.** Производња кукуруза и пшенице у периоду 2008-2012. у Србији је дата у следећој табели (подаци су исказани у хиљадама тона):\n",
    "\n",
    "| Godina | Kukuruz | Pšenica |\n",
    "|--|--|--|\n",
    "| 2008. | 6.158 | 2.095 |\n",
    "| 2009. | 6.396 | 2.067 |\n",
    "| 2010. | 7.207 | 1.631 |\n",
    "| 2011. | 6.480 | 2.076 |\n",
    "| 2012. | 3.532 | 1.911 |\n",
    "\n",
    "*(а)* Направи одговарајући *DataFrame* па израчунај максималну производњу кукуруза и минималну производњу пшенице у наведеном периоду. (Упутство: податке прво представи листом, а онда од листе направи *DataFrame*.)"
   ]
  },
  {
   "cell_type": "markdown",
   "metadata": {},
   "source": [
    "*(б)* На једном графикону прикажи стубичастим дијаграмом производњу пшенице и кукуруза у наведеном периоду. (Води рачуна да прво исцрташ податке за кукуруз, а онда преко тога податке за пшеницу.)"
   ]
  },
  {
   "cell_type": "markdown",
   "metadata": {},
   "source": [
    "*(в)* Израчунај просечну годишњу производњу кукуруза за наведени период, као и за колико се разликовала производња пшенице у најбољој и најлошијој години наведеног периода (у хиљадама тона)."
   ]
  },
  {
   "cell_type": "markdown",
   "metadata": {},
   "source": [
    "**Задатак 4.** У датотеци *podaci/LEB.csv* налазе се подаци о очекиваној дужини живота особе у тренутку рођења (енгл. *Life Expectancy at Birth*), по петогодишњим периодима."
   ]
  },
  {
   "cell_type": "markdown",
   "metadata": {},
   "source": [
    "*(а)* Учитај датотеку у структуру података *DataFrame*."
   ]
  },
  {
   "cell_type": "markdown",
   "metadata": {},
   "source": [
    "*(б)* Прикажи ове податке стубичастим дијаграмом."
   ]
  },
  {
   "cell_type": "markdown",
   "metadata": {},
   "source": [
    "**Задатак 5.** Ученици једног разреда су скакали у даљ. Сваки ученик је скакао три пута и резултати су дати у датотеци *SkokUDalj.csv* која се налази у фолдеру *podaci*. Табела има заглавље и састоји се од четири колоне: \"Презиме и име\", \"Скок1\", \"Скок2\" и \"Скок3\".\n",
    "\n",
    "*(а)* Учитај датотеку у структуру података *DataFrame*."
   ]
  },
  {
   "cell_type": "markdown",
   "metadata": {},
   "source": [
    "*(б)* Прикажи ове податке стубичастим дијаграмом који ће имати три групе стубића, по једну за сваки скок. Дијаграм треба да има легенду."
   ]
  },
  {
   "cell_type": "code",
   "execution_count": null,
   "metadata": {},
   "outputs": [],
   "source": []
  },
  {
   "cell_type": "markdown",
   "metadata": {},
   "source": [
    "**Задатак 6.** На адреси\n",
    "\n",
    "    https://raw.githubusercontent.com/resbaz/r-novice-gapminder-files/master/data/gapminder-FiveYearData.csv\n",
    "\n",
    "се налази јавно доступна табела са списком држава света и неким параметрима економског развоја тих држава праћеним у интервалима од 5 година.\n",
    "\n",
    "Табела има следеће колоне:\n",
    "\n",
    "* country = држава\n",
    "* year = година на коју се односе подаци\n",
    "* pop = број становника (енгл. *population*)\n",
    "* continent = континент\n",
    "* lifeExp = очекивани животни век у годинама (енгл. *life expextancy*)\n",
    "* gdpPercap = БДП по глави становника у америчким доларима (енгл. *GDP per capitem*)\n",
    "\n",
    "Учитај ову табелу у структуру података *DataFrame* и прикажи првих 20 редова табеле, као и последњих 10 редова табеле."
   ]
  },
  {
   "cell_type": "markdown",
   "metadata": {},
   "source": [
    "**Задатак 7.** Са следеће адресе\n",
    "\n",
    "    https://www.worldometers.info/world-population/population-by-country/\n",
    "\n",
    "учитај табелу која садржи податке о свим државама на свету и броју њихових становника. Прикажи првих и последњеих неколико редова табеле."
   ]
  },
  {
   "cell_type": "markdown",
   "metadata": {},
   "source": [
    "**Задатак 8.** Ево трошкова живота једне породице током једне године, по месецима (сви износи су представљени у динарима):\n",
    "  \n",
    "  | Stavka | Jan | Feb | Mar | Apr | Maj | Jun | Jul | Avg | Sep | Okt | Nov | Dec |\n",
    "  |--------|-----|-----|-----|-----|-----|-----|-----|-----|-----|-----|-----|-----|\n",
    "  | Stanarina | 8.251 | 8.436 | 8.524 | 8.388 | 8.241 | 8.196 | 8.004 | 7.996 | 7.991 | 8.015 | 8.353 | 8.456 |\n",
    "  | Struja | 4.321 | 4.530 | 4.115 | 3.990 | 3.985 | 3.726 | 3.351 | 3.289 | 3.295 | 3.485 | 3.826 | 3.834 |\n",
    "  | Telefon (fiksni) | 1.425 | 1.538 | 1.623 | 1.489 | 1.521 | 1.485 | 1.491 | 1.399 | 1.467 | 1.531 | 1.410 | 1.385 |\n",
    "  | Telefon (mobilni) | 2.181 | 2.235 | 2.073 | 1.951 | 1.989 | 1.945 | 3.017 | 2.638 | 2.171 | 1.831 | 1.926 | 1.833 |\n",
    "  | TV i internet | 2.399 | 2.399 | 2.399 | 2.399 | 2.399 | 2.399 | 2.399 | 2.399 | 2.399 | 2.399 | 2.399 | 2.399  |\n",
    "  | Prevoz | 1.830 | 1.830 | 1.830 | 1.830 | 1.950 | 1.950 | 1.450 | 1.450 | 1.950 | 1.950 | 2.050 | 2.050 |\n",
    "  | Hrana | 23.250 | 23.780 | 24.019 | 24.117 | 24.389 | 24.571 | 24.736 | 24.951 | 25.111 | 25.389 | 25.531 | 25.923 |\n",
    "  | Ostalo | 4.500 | 3.700 | 5.100 | 3.500 | 2.750 | 4.250 | 7.320 | 8.250 | 3.270 | 4.290 | 3.200 | 8.390 |\n",
    "\n",
    "У ћелији испод су исти подаци представљени листом:"
   ]
  },
  {
   "cell_type": "code",
   "execution_count": null,
   "metadata": {},
   "outputs": [],
   "source": [
    "troskovi = [\n",
    "  [\"Stanarina\", 8251, 8436, 8524, 8388, 8241, 8196, 8004, 7996, 7991, 8015, 8353, 8456],\n",
    "  [\"Struja\", 4321, 4530, 4115, 3990, 3985, 3726, 3351, 3289, 3295, 3485, 3826, 3834],\n",
    "  [\"Telefon (fiksni)\", 1425, 1538, 1623, 1489, 1521, 1485, 1491, 1399, 1467, 1531, 1410, 1385],\n",
    "  [\"Telefon (mobilni)\", 2181, 2235, 2073, 1951, 1989, 1945, 3017, 2638, 2171, 1831, 1926, 1833],\n",
    "  [\"TV i internet\", 2399, 2399, 2399, 2399, 2399, 2399, 2399, 2399, 2399, 2399, 2399, 2399 ],\n",
    "  [\"Prevoz\", 1830, 1830, 1830, 1830, 1950, 1950, 1450, 1450, 1950, 1950, 2050, 2050],\n",
    "  [\"Hrana\", 23250, 23780, 24019, 24117, 24389, 24571, 24736, 24951, 25111, 25389, 25531, 25923],\n",
    "  [\"Ostalo\", 4500, 3700, 5100, 3500, 2750, 4250, 7320, 8250, 3270, 4290, 3200, 8390]\n",
    "]"
   ]
  },
  {
   "cell_type": "markdown",
   "metadata": {},
   "source": [
    "*(а)* Представи табелу структуром *DataFrame*. Индексирај табелу."
   ]
  },
  {
   "cell_type": "markdown",
   "metadata": {},
   "source": [
    "*(б)* Израчунај и испиши *укупне* трошкове ове породице по месецима (колико је породица укупно потрошила у јануару, колико у фебруару итд)."
   ]
  },
  {
   "cell_type": "markdown",
   "metadata": {},
   "source": [
    "*(в)* Израчунај и испиши *просечну* потрошњу ове породице по ставкама (колико је породица просечно потрошила на станарину, колико на струју, итд)."
   ]
  },
  {
   "cell_type": "markdown",
   "metadata": {},
   "source": [
    "**Задатак 9.** Ученици осмог разреда једне школе су анкетирани о томе коју врсту филмова најрадије гледају. Подаци анкете су дати у следећој табели (у коју нису унети неважећи и бесмислени одговори):\n",
    "\n",
    "| Žanr | 8-1 | 8-2 | 8-3 | 8-4 | 8-5 |\n",
    "|------|-----|-----|-----|-----|-----|\n",
    "| Komedija | 4 | 3 | 5 | 2 | 3 |\n",
    "| Horor | 1 | 0 | 2 | 1 | 6 |\n",
    "| Naučna fantastika | 10 | 7 | 9 | 8 | 9 |\n",
    "| Avanture | 4 | 3 | 4 | 2 | 2 |\n",
    "| Istorijski | 1 | 0 | 2 | 0 | 0 |\n",
    "| Romantični | 11 | 10 | 7 | 9 | 8 |"
   ]
  },
  {
   "cell_type": "markdown",
   "metadata": {},
   "source": [
    "*(а)* Формирај одговарајућу табелу позивом функције *DataFrame*. Индексирај табелу колоном \"Žanr\"."
   ]
  },
  {
   "cell_type": "markdown",
   "metadata": {},
   "source": [
    "*(б)* Израчунај и испиши колико гласова је добио сваки од наведених жанрова."
   ]
  },
  {
   "cell_type": "markdown",
   "metadata": {},
   "source": [
    "*(в)* За свако одељење израчунај и испиши колико је било валидних гласова."
   ]
  },
  {
   "cell_type": "markdown",
   "metadata": {},
   "source": [
    "*(г)* Колико је укупно ученика осмих разреда учествовало у анкетирању? (Рачунамо само ученике који су дали валидне одговоре на анкету.)"
   ]
  },
  {
   "cell_type": "markdown",
   "metadata": {},
   "source": [
    "**Задатак 10.** Нутритивни подаци за неке намирнице су дати у следећој табели:\n",
    "\n",
    "| Namirnica (100g) | Energetska vrednost (kcal) | Ugljeni hidrati (g) | Belančevine (g) | Masti (g) |\n",
    "|--|--|--|--|--|\n",
    "| Crni hleb | 250 | 48,2 | 8,4 | 1,0 |\n",
    "| Beli hleb | 280 | 57,5 | 6,8 | 0,5 |\n",
    "| Kisela pavlaka (10% m.m.) | 127 | 4,0 | 3,1 | 10,5 |\n",
    "| Margarin | 532 | 4,6 | 3,2 | 1,5 |\n",
    "| Jogurt | 48 | 4,7 | 4,0 | 3,3 |\n",
    "| Mleko (2,8% m.m.) | 57 | 4,7 | 3,3 | 2,8 |\n",
    "| Salama parizer | 523 | 1,0 | 17,0 | 47,0 |\n",
    "| Pršuta | 268 | 0,0 | 25,5 | 18,4 |\n",
    "| Pileća prsa | 110 | 0,0 | 23,1 | 1,2 |\n",
    "\n",
    "У ћелији испод ови подаци су припремљени у облику индексиране *DataFrame* структуре (са скраћеним именима):"
   ]
  },
  {
   "cell_type": "code",
   "execution_count": null,
   "metadata": {},
   "outputs": [],
   "source": [
    "namirnice = pd.DataFrame([\n",
    "    [\"Chleb\", 250, 48.2, 8.4, 1.0],\n",
    "    [\"Bhleb\", 280, 57.5, 6.8, 0.5],\n",
    "    [\"Pavlaka\", 127, 4.0, 3.1, 10.5],\n",
    "    [\"Margarin\", 532, 4.6, 3.2, 1.5],\n",
    "    [\"Jogurt\", 48, 4.7, 4.0, 3.3],\n",
    "    [\"Mleko\", 57, 4.7, 3.3, 2.8],\n",
    "    [\"Parizer\", 523, 1.0, 17.0, 47.0],\n",
    "    [\"Pršuta\", 268, 0.0, 25.5, 18.4],\n",
    "    [\"PilPrsa\", 110, 0.0, 23.1, 1.2]])\n",
    "namirnice.columns=[\"Namirnica\", \"EnergVr\", \"UH\", \"Bel\", \"Masti\"]\n",
    "namirnice1 = namirnice.set_index(\"Namirnica\")"
   ]
  },
  {
   "cell_type": "markdown",
   "metadata": {},
   "source": [
    "*(а)* Милош је за доручак појео два парчета белог хлеба и попио шољу млека. Свако парче хлеба је било намазано павлаком и имало је један шнит пршуте. Колика је енергетска вредност Милошевог доручка (у kcal), ако претпоставимо да једно парче хлеба има 100 г, да је за мазање једног парчета хлеба довољно 10 г премаза, да један шнит пршуте има 20г и да шоља млека има 2 дл (што је приближно 200 г)?"
   ]
  },
  {
   "cell_type": "markdown",
   "metadata": {},
   "source": [
    "*(б)* Колико грама масти је било у Милошевом доручку?"
   ]
  },
  {
   "cell_type": "markdown",
   "metadata": {},
   "source": [
    "*(в)* Прикажи дијаграмом количину угљених хидрата у намирницама наведеним у табели."
   ]
  },
  {
   "cell_type": "markdown",
   "metadata": {},
   "source": [
    "**Задатак 11.** У фолдеру *podaci* се налази датотека *TemperaturneAnomalije.csv* која садржи податке о томе за колико степени Целзијуса је средња измерена температура на Земљи већа од оптималне у последњих 40 година. Ова табела има два дугачка реда који изгледају овако:\n",
    "\n",
    "    1977,1978,1979,1980,1981,...\n",
    "    0.22,0.14,0.15,0.3,0.37,...\n",
    "\n",
    "У првом реду се налазе године (1977-2017), а у другом измерена температурна аномалија. Табела нема заглавље.\n",
    "\n",
    "*(а)* Учитај табелу у структуру *DataFrame* користећи функцију `read_csv` из библиотеке `pandas`. (Напомена: када табела нема заглавље у функцији за учитавање треба навести опцију `header=None`.)"
   ]
  },
  {
   "cell_type": "markdown",
   "metadata": {},
   "source": [
    "*(б)* Транспонуј табелу и колоне транспоноване табеле назови \"Godina\" i \"Anomalija\"."
   ]
  },
  {
   "cell_type": "markdown",
   "metadata": {},
   "source": [
    "*(в)* Индексирај табелу колоном \"Godina\"."
   ]
  },
  {
   "cell_type": "markdown",
   "metadata": {},
   "source": [
    "*(г)* Прикажи температурне аномалије дијаграмом."
   ]
  },
  {
   "cell_type": "markdown",
   "metadata": {},
   "source": [
    "**Задатак 12.** У фолдеру *podaci* се налази датотека *StanovnistvoSrbije2017.csv* (која има заглавље). Табела има три колоне које се зову \"Starost\", \"M\" и \"Ž\".\n",
    "\n",
    "*(а)* Учитај датотеку у структуру података *DataFrame* и индексирај табелу колоном \"Starost\"."
   ]
  },
  {
   "cell_type": "markdown",
   "metadata": {},
   "source": [
    "*(б)* Прикажи процењени број мушкараца и жена по старости линијским дијаграмом."
   ]
  },
  {
   "cell_type": "markdown",
   "metadata": {},
   "source": [
    "*(в)* На основу података из табеле израчунај колики је процењени број становника у следећим старосним групама:\n",
    "\n",
    "* 0--17 година,\n",
    "* 18--65 година, и\n",
    "* 66 и више година,\n",
    "\n",
    "и представи ова три податка секторским дијаграмом. (Упутство: следећи израз може бити од помоћи: `tabela.loc[\"0\":\"17\", \"M\":\"Ž\"]`)"
   ]
  },
  {
   "cell_type": "markdown",
   "metadata": {},
   "source": [
    "**Задатак 13.** У табели испод су дати подаци о продаји неких производа у пет пословних јединица једне компаније (бројеви представљају број продатих комада у једном месецу):\n",
    "\n",
    "| Proizvod       | PJ1 | PJ2 | PJ3 | PJ4 | PJ5 |\n",
    "|----------------|-----|-----|-----|-----|-----|\n",
    "| Cipele         |  5  | 17  |  3  | 11  |  9  |\n",
    "| Košulja         |  8  |  6  |  7  |  4  |  0  |\n",
    "| Kaiš           |  4  |  1  |  3  |  5  |  1  |\n",
    "| Pantalone      |  4  |  2  |  6  |  4  |  5  |\n",
    "| Čarape (par)   |  8  |  9  |  7  |  4  |  9  |\n",
    "| Kravata        |  1  |  0  |  3  |  2  |  4  |\n",
    "\n",
    "Следећа табела садржи цене ових производа у динарима:\n",
    "\n",
    "| Proizvod       | Cena (din) |\n",
    "|----------------|------------|\n",
    "| Cipele         |  11.250  |\n",
    "| Košulja         |   6.500  |\n",
    "| Kaiš           |   4.750  |\n",
    "| Pantalone      |   2.500  |\n",
    "| Čarape (par)   |     750  |\n",
    "| Kravata        |   3.500  |\n",
    "\n",
    "Ћелија испод садржи податке из ове две табеле представљене у облику листе:"
   ]
  },
  {
   "cell_type": "code",
   "execution_count": null,
   "metadata": {},
   "outputs": [],
   "source": [
    "proizvodi = [\n",
    "    [\"Cipele\",         5, 17,  3, 11,  9],\n",
    "    [\"Košulja\",         8,  6,  7,  4,  0],\n",
    "    [\"Kaiš\",           4,  1,  3,  5,  1],\n",
    "    [\"Pantalone\",      4,  2,  6,  4,  5],\n",
    "    [\"Čarape (par)\",   8,  9,  7,  4,  9],\n",
    "    [\"Kravata\",        1,  0,  3,  2,  4]]\n",
    "cene = [\n",
    "    [\"Cipele\",         11250],\n",
    "    [\"Košulja\",          6500],\n",
    "    [\"Kaiš\",            4750],\n",
    "    [\"Pantalone\",       2500],\n",
    "    [\"Čarape (par)\",     750],\n",
    "    [\"Kravata\",         3500]]"
   ]
  },
  {
   "cell_type": "markdown",
   "metadata": {},
   "source": [
    "*(а)* Представи обе табеле структуром *DataFrame*. Индексирај обе табеле."
   ]
  },
  {
   "cell_type": "markdown",
   "metadata": {},
   "source": [
    "*(б)* Израчунај колико је укупно у том месецу продато ципела, кошуља, каишева, панталона, чарапа и кравата."
   ]
  },
  {
   "cell_type": "markdown",
   "metadata": {},
   "source": [
    "*(в)* Израчунај колико је у том месецу компанија зарадила на продаји ципела, колико на продаји кошуља, колико на продаји каишева, итд."
   ]
  },
  {
   "cell_type": "markdown",
   "metadata": {},
   "source": [
    "*(г*)* Израчунај и испиши зараду сваке пословне јединице у том месецу."
   ]
  },
  {
   "cell_type": "markdown",
   "metadata": {},
   "source": [
    "**Задатак 14.** У датотеци *podaci/RekeSrbije.csv* наведене су најдуже реке Србије, њихова укупна дужина у км, и дужина тока кроз Србију у км.\n",
    "\n",
    "*(а)* Учитај податке у табелу (табела има заглавље), и прикажи првих неколико редова табеле."
   ]
  },
  {
   "cell_type": "markdown",
   "metadata": {},
   "source": [
    " \n",
    "*(б)* Сортирај табелу по дужини тока реке кроз Србију."
   ]
  },
  {
   "cell_type": "markdown",
   "metadata": {},
   "source": [
    "*(в)* За наведене реке прикажи линијским дијаграмом укупну дужину, и дужину тока реке кроз Србију."
   ]
  },
  {
   "cell_type": "markdown",
   "metadata": {},
   "source": [
    "*(г)* Од дате табеле направи нову у којој су издвојене само оне реке које бар половину свог тока протичу кроз Србију, па тако добијену табелу упиши у датотеку *podaci/Reke2.csv* водећи рачуна о томе да су неки подаци у табели записани ћирилицом."
   ]
  },
  {
   "cell_type": "markdown",
   "metadata": {},
   "source": [
    "**Задатак 15.** Нутритивни подаци за неке рибе и морске плодове су дати у следећој табели:\n",
    "\n",
    "| Намирница (100г) | Енергетска вредност (kcal) | Угљени хидрати (г) | Беланчевине (г) | Масти (г) |\n",
    "|--|--|--|--|--|\n",
    "|Туна|116|0|26|1|\n",
    "|Ослић|88|0|17.2|0.8|\n",
    "|Пастрмка|119|0|18|5|\n",
    "|Лосос|116|0|20|3.5|\n",
    "|Скуша|205|0|19|14|\n",
    "|Сардине|135|0|18|5|\n",
    "|Харинга|158|0|18|9|\n",
    "|Бакалар|82|0|18|0.7|\n",
    "|Сом|95|0|16.4|2.8|\n",
    "|Шаран|127|0|17.6|5.6|\n",
    "|Орада|115|0|16.5|5.5|\n",
    "|Јегуља|184|0|18.4|11.7|\n",
    "|Шкампи|106|1|20|2|\n",
    "|Дагње|86|4|12|2|\n",
    "|Козице|71|1|13|1|\n",
    "|Лигње|92|3|15.6|1.3|\n",
    "|Хоботница|81|0|16.4|0.9|\n",
    "|Јастог|112|0|20|1.5|\n",
    "\n",
    "Подаци из табеле су представљени листом у ћелији испод:"
   ]
  },
  {
   "cell_type": "code",
   "execution_count": 1,
   "metadata": {},
   "outputs": [],
   "source": [
    "morski_plodovi = [\n",
    "  [\"Туна\", 116, 0, 26, 1],\n",
    "  [\"Ослић\", 88, 0, 17.2, 0.8],\n",
    "  [\"Пастрмка\", 119, 0, 18, 5],\n",
    "  [\"Лосос\", 116, 0, 20, 3.5],\n",
    "  [\"Скуша\", 205, 0, 19, 14],\n",
    "  [\"Сардине\", 135, 0, 18, 5],\n",
    "  [\"Харинга\", 158, 0, 18, 9],\n",
    "  [\"Бакалар\", 82, 0, 18, 0.7],\n",
    "  [\"Сом\", 95, 0, 16.4, 2.8],\n",
    "  [\"Шаран\", 127, 0, 17.6, 5.6],\n",
    "  [\"Орада\", 115, 0, 16.5, 5.5],\n",
    "  [\"Јегуља\", 184, 0, 18.4, 11.7],\n",
    "  [\"Шкампи\", 106, 1, 20, 2],\n",
    "  [\"Дагње\", 86, 4, 12, 2],\n",
    "  [\"Козице\", 71, 1, 13, 1],\n",
    "  [\"Лигње\", 92, 3, 15.6, 1.3],\n",
    "  [\"Хоботница\", 81, 0, 16.4, 0.9],\n",
    "  [\"Јастог\", 112, 0, 20, 1.5]]"
   ]
  },
  {
   "cell_type": "markdown",
   "metadata": {},
   "source": [
    "*(а)* Од ове листе у ћелији испод направи *DataFrame* и дај колонама табеле погодна имена. Предлажемо да свакој колони даш име које ће бити само једна реч (рецимо \"Намирница\", \"ЕнергВр\", \"УХ\", \"Бел\", \"Масти\") како би у каснијим задацима лакше именовао колоне табеле."
   ]
  },
  {
   "cell_type": "markdown",
   "metadata": {},
   "source": [
    "*(б)* Сортирај табелу по енергетској вредности намирнице од највеће ка најмањој вредности и прикажи хистограмом тако сортиране енергетске вредности."
   ]
  },
  {
   "cell_type": "markdown",
   "metadata": {},
   "source": [
    "*(в)* Од овако сортиране табеле направи нову у којој су само оне намирнице које не садрже угљене хидрате и имају мање од 10 г масти на 100 г намирнице."
   ]
  },
  {
   "cell_type": "markdown",
   "metadata": {},
   "source": [
    "*(г)* Направи фреквенцијску анализу ових података према количини угљених хидрата и прикажи резултате анализе секторским дијаграмом."
   ]
  },
  {
   "cell_type": "markdown",
   "metadata": {},
   "source": [
    "**Задатак 16.** Ученици једног разреда су скакали у даљ. Сваки ученик је скакао три пута и резултати су дати у датотеци *SkokUDalj.csv* која се налази у фолдеру *podaci*. Табела има заглавље и састоји се од четири колоне: \"Презиме и име\", \"Скок1\", \"Скок2\" и \"Скок3\".\n",
    "\n",
    "*(а)* Учитај датотеку у структуру података *DataFrame*."
   ]
  },
  {
   "cell_type": "markdown",
   "metadata": {},
   "source": [
    "*(б)* Додај табели нову колону \"Макс\" и онда за сваког ученика израчунај и у ту колону упиши његов најбољи скок."
   ]
  },
  {
   "cell_type": "markdown",
   "metadata": {},
   "source": [
    "*(в)* Сортирај табелу по колони \"Макс\" и прикажи првих пет редова тако сортиране табеле (да видимо ко су најбољи скакачи у разреду)."
   ]
  },
  {
   "cell_type": "markdown",
   "metadata": {},
   "source": [
    "*(г)* Издвој из табеле оне редове који садрже ученике који су начинили бар један преступ. Преступ је у табели означен тако што је дужина одговарајућег скока постављена на 0."
   ]
  },
  {
   "cell_type": "markdown",
   "metadata": {},
   "source": [
    "**Задатак 17.** У наредној ћелији се налазе подаци о неколико ученика. За сваког ученика је наведено његово презиме, име, ЈМБГ, пол, разред који похађа и просек на крају тог разреда:"
   ]
  },
  {
   "cell_type": "code",
   "execution_count": null,
   "metadata": {},
   "outputs": [],
   "source": [
    "podaci = [\n",
    "    [\"Петровић\",  \"Петар\", \"0308003800019\", \"м\", 8, 4.52],\n",
    "    [\"Јаснић\",    \"Јасна\", \"1210003805026\", \"ж\", 8, 5.00],\n",
    "    [\"Аничић\",    \"Аница\", \"1105004805019\", \"ж\", 7, 4.11],\n",
    "    [\"Веснић\",    \"Весна\", \"2901005705011\", \"ж\", 6, 5.00],\n",
    "    [\"Ђорђевић\",  \"Ђорђе\", \"1504005700012\", \"м\", 6, 3.12],\n",
    "    [\"Милошев\",   \"Милош\", \"1506004400056\", \"м\", 7, 2.51],\n",
    "    [\"Милошев\",   \"Петар\", \"1506004400057\", \"м\", 7, 2.48],\n",
    "    [\"Ненадовић\", \"Ненад\", \"2109003800046\", \"м\", 8, 3.58],\n",
    "    [\"Ненадовић\", \"Јасна\", \"2109003805021\", \"ж\", 8, 4.21]]"
   ]
  },
  {
   "cell_type": "markdown",
   "metadata": {},
   "source": [
    "*(а)* Формирај одговарајућу табелу позивом функције *DataFrame*."
   ]
  },
  {
   "cell_type": "markdown",
   "metadata": {},
   "source": [
    "*(б)* Прикажи секторским дијаграмом полну структуру ове групе."
   ]
  },
  {
   "cell_type": "markdown",
   "metadata": {},
   "source": [
    "*(в)* Прикажи секторским дијаграмом старосну структуру ове групе узимајући у обзир разред који је ученик завршио."
   ]
  },
  {
   "cell_type": "markdown",
   "metadata": {},
   "source": [
    "*(г)* Коју колону је најбоље одабрати као кључ за индексирање ове табеле? У ћелији испод ове направи нову табелу која се добија индексирањем претходне табеле одабраном колоном."
   ]
  },
  {
   "cell_type": "markdown",
   "metadata": {},
   "source": [
    "*(д)* Шта мислиш, зашто сваки држављанин наше државе има ЈМБГ?"
   ]
  },
  {
   "cell_type": "markdown",
   "metadata": {},
   "source": [
    "*(ђ)* Направи нову табелу коју чине само ученици осмог разреда."
   ]
  },
  {
   "cell_type": "markdown",
   "metadata": {},
   "source": [
    "*(е)* Направи нову табелу коју чине само врло добри ученици."
   ]
  },
  {
   "cell_type": "markdown",
   "metadata": {},
   "source": [
    "*(ж)* Направи нову табелу коју чине само дечаци који нису одлични."
   ]
  },
  {
   "cell_type": "markdown",
   "metadata": {},
   "source": [
    "**Задатак 18.** На адреси\n",
    "\n",
    "    https://raw.githubusercontent.com/resbaz/r-novice-gapminder-files/master/data/gapminder-FiveYearData.csv\n",
    "\n",
    "се налази јавно доступна табела са списком држава света и неким параметрима економског развоја тих држава праћеним у интервалима од 5 година.\n",
    "\n",
    "Табела има следеће колоне:\n",
    "\n",
    "* country = држава\n",
    "* year = година на коју се односе подаци\n",
    "* pop = број становника (енгл. *population*)\n",
    "* continent = континент\n",
    "* lifeExp = очекивани животни век у годинама (енгл. *life expextancy*)\n",
    "* gdpPercap = БДП по глави становника у америчким доларима (енгл. *GDP per capitem*)\n",
    "\n",
    "*(а)* Учитај ову табелу у структуру података *DataFrame*."
   ]
  },
  {
   "cell_type": "markdown",
   "metadata": {},
   "source": [
    "*(б)* У нову табелу издвој податке који се односе на Србију (Упутство: `tabela[tabela.country == \"Serbia\"]`)"
   ]
  },
  {
   "cell_type": "markdown",
   "metadata": {},
   "source": [
    "*(в)* Прикажи линијским дијаграмом како се мењао очекивани животни век грађана Србије за године за које постоје подаци у табели."
   ]
  },
  {
   "cell_type": "markdown",
   "metadata": {},
   "source": [
    "*(г)* Прикажи хистограмом како се мењао БДП по глави становника Србије за године за које постоје подаци у табели."
   ]
  },
  {
   "cell_type": "markdown",
   "metadata": {},
   "source": [
    "*(д)* Табелу која се односи на Србију упиши у датотеку *FYDSerbia.csv* (сви подаци у табели су записани енглеским алфабетом па нема муке око система за кодирање података), али тако да у датотеку не упишемо индексну колону."
   ]
  },
  {
   "cell_type": "code",
   "execution_count": null,
   "metadata": {},
   "outputs": [],
   "source": []
  }
 ],
 "metadata": {
  "kernelspec": {
   "display_name": "Python 3",
   "language": "python",
   "name": "python3"
  },
  "language_info": {
   "codemirror_mode": {
    "name": "ipython",
    "version": 3
   },
   "file_extension": ".py",
   "mimetype": "text/x-python",
   "name": "python",
   "nbconvert_exporter": "python",
   "pygments_lexer": "ipython3",
   "version": "3.7.4"
  }
 },
 "nbformat": 4,
 "nbformat_minor": 2
}
